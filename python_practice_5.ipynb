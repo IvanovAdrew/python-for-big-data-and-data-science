{
  "nbformat": 4,
  "nbformat_minor": 0,
  "metadata": {
    "colab": {
      "provenance": [],
      "include_colab_link": true
    },
    "kernelspec": {
      "name": "python3",
      "display_name": "Python 3"
    },
    "language_info": {
      "name": "python"
    }
  },
  "cells": [
    {
      "cell_type": "markdown",
      "metadata": {
        "id": "view-in-github",
        "colab_type": "text"
      },
      "source": [
        "<a href=\"https://colab.research.google.com/github/IvanovAdrew/python-for-big-data-and-data-science/blob/main/python_practice_5.ipynb\" target=\"_parent\"><img src=\"https://colab.research.google.com/assets/colab-badge.svg\" alt=\"Open In Colab\"/></a>"
      ]
    },
    {
      "cell_type": "markdown",
      "source": [
        "# I. OOP"
      ],
      "metadata": {
        "id": "5qV_sehzFCTp"
      }
    },
    {
      "cell_type": "markdown",
      "source": [
        "1. (6б). Створіть клас Animal, додайте три атрибути, один з яких має значення за замовчуванням та два методи на свій розсуд."
      ],
      "metadata": {
        "id": "tx_U_hOALyfg"
      }
    },
    {
      "cell_type": "code",
      "source": [
        "class Animal:\n",
        "    # Конструктор класу з трема атрибутами, один з яких має значення за замовчуванням\n",
        "    def __init__(self, name, species, age=5):\n",
        "        self.name = name\n",
        "        self.species = species\n",
        "        self.age = age\n",
        "\n",
        "    # Метод для виведення інформації про тварину\n",
        "    def display_info(self):\n",
        "        print(f'Name: {self.name}, Species: {self.species}, Age: {self.age}')\n",
        "\n",
        "    # Метод для імітації звуку, який видає тварина\n",
        "    def make_sound(self):\n",
        "        print(f'{self.name} says hello!')\n"
      ],
      "metadata": {
        "id": "-Vf895KaL88N"
      },
      "execution_count": 1,
      "outputs": []
    },
    {
      "cell_type": "markdown",
      "source": [
        "2. (2б). Створіть два обʼєкти цього класу, де один з обʼєктів створюється із дефолтним значенням атрибуту. На одному обʼєкті отримайте значення його атрибуту, а на іншому викличте один з його методів."
      ],
      "metadata": {
        "id": "X_UlOMB0L93w"
      }
    },
    {
      "cell_type": "code",
      "source": [
        "# Визначаємо клас Animal\n",
        "class Animal:\n",
        "    def __init__(self, name, species, age=5):\n",
        "        self.name = name\n",
        "        self.species = species\n",
        "        self.age = age\n",
        "\n",
        "    def display_info(self):\n",
        "        print(f'Name: {self.name}, Species: {self.species}, Age: {self.age}')\n",
        "\n",
        "    def make_sound(self):\n",
        "        print(f'{self.name} says hello!')\n",
        "\n",
        "# Створюємо два об'єкти класу\n",
        "animal1 = Animal(\"Leo\", \"Lion\")\n",
        "animal2 = Animal(\"Molly\", \"Dog\", 3)\n",
        "\n",
        "# Отримуємо значення атрибуту для першого об'єкта\n",
        "animal1_name = animal1.name\n",
        "\n",
        "# Викликаємо метод для другого об'єкта\n",
        "animal2.make_sound()\n",
        "\n",
        "animal1_name"
      ],
      "metadata": {
        "id": "7gBu0ESOMCpG",
        "colab": {
          "base_uri": "https://localhost:8080/",
          "height": 53
        },
        "outputId": "b0fa3d74-01d6-4e8a-e35a-3191d18844d0"
      },
      "execution_count": 2,
      "outputs": [
        {
          "output_type": "stream",
          "name": "stdout",
          "text": [
            "Molly says hello!\n"
          ]
        },
        {
          "output_type": "execute_result",
          "data": {
            "text/plain": [
              "'Leo'"
            ],
            "application/vnd.google.colaboratory.intrinsic+json": {
              "type": "string"
            }
          },
          "metadata": {},
          "execution_count": 2
        }
      ]
    },
    {
      "cell_type": "markdown",
      "source": [
        "3. (5б). Створіть клас, де атрибути мають різні рівні доступу. Спробуйте отримати їхні значення та опишіть результати."
      ],
      "metadata": {
        "id": "HoqSCZt1MHn5"
      }
    },
    {
      "cell_type": "code",
      "source": [
        "# Визначаємо клас SecretAnimal з різними рівнями доступу атрибутів\n",
        "class SecretAnimal:\n",
        "    def __init__(self, public_name, protected_name, private_name):\n",
        "        self.public_name = public_name\n",
        "        self._protected_name = protected_name\n",
        "        self.__private_name = private_name\n",
        "\n",
        "    def display_names(self):\n",
        "        # Метод для виведення назв\n",
        "        print(f\"Public name: {self.public_name}\")\n",
        "        print(f\"Protected name: {self._protected_name}\")\n",
        "        print(\"Private name: (hidden)\")\n",
        "\n",
        "# Створюємо об'єкт\n",
        "secret_animal = SecretAnimal(\"Lion\", \"Tiger\", \"Panther\")\n",
        "\n",
        "# Отримуємо доступ до атрибутів\n",
        "public_name = secret_animal.public_name\n",
        "protected_name = secret_animal._protected_name\n",
        "\n",
        "# Спробуємо отримати доступ до приватного атрибута\n",
        "try:\n",
        "    private_name = secret_animal.__private_name\n",
        "except AttributeError as e:\n",
        "    private_name_error = str(e)\n",
        "\n",
        "(public_name, protected_name, private_name_error)  # Виведемо отримані значення та помилку доступу до приватного атрибута\n"
      ],
      "metadata": {
        "id": "r9b3vJxBMSPV",
        "colab": {
          "base_uri": "https://localhost:8080/"
        },
        "outputId": "71a8f9ec-2916-4cff-c1e7-6ea7aaea37f6"
      },
      "execution_count": 3,
      "outputs": [
        {
          "output_type": "execute_result",
          "data": {
            "text/plain": [
              "('Lion', 'Tiger', \"'SecretAnimal' object has no attribute '__private_name'\")"
            ]
          },
          "metadata": {},
          "execution_count": 3
        }
      ]
    },
    {
      "cell_type": "markdown",
      "source": [
        "4. (7б). Як ви розумієте термін self? Для чого використовується метод __init __?"
      ],
      "metadata": {
        "id": "5op2m2vgMSkZ"
      }
    },
    {
      "cell_type": "markdown",
      "source": [
        "self - це спосіб посилатися на поточний об'єкт класу, self допомагає кожному об'єкту розрізнити свої власні атрибути та методи від інших об'єктів. Метод __init__ — це спеціальний метод, який працює як конструктор. Він використовується для того, щоб встановити початкові значення атрибутів об'єкта, коли ви створюєте новий екземпляр класу"
      ],
      "metadata": {
        "id": "DyiPqNRvMasx"
      }
    },
    {
      "cell_type": "markdown",
      "source": [
        "5. (9б). Створіть клас Фігура без атрибутів, з методом get_area для отримання площі фігури, що повертає 0 та __add __, який приймає self та other в якості аргументів, а повертає суму площин фігур self та other."
      ],
      "metadata": {
        "id": "-6X8EGfjMd2y"
      }
    },
    {
      "cell_type": "code",
      "source": [
        "class Figure:\n",
        "    # Метод для отримання площі фігури, який завжди повертає 0\n",
        "    def get_area(self):\n",
        "        return 0\n",
        "\n",
        "    # Спеціальний метод для додавання площ двох фігур\n",
        "    def __add__(self, other):\n",
        "        return self.get_area() + other.get_area()\n"
      ],
      "metadata": {
        "id": "4rvO_wYUMaEr"
      },
      "execution_count": 4,
      "outputs": []
    },
    {
      "cell_type": "markdown",
      "source": [
        "6. (11б). Створіть 2 дочірніх класи від Фігури: Трикутник та Коло, які мають атрибути, необхідні для розрахунку площин. Визначте метод get_area в кожному з них так, щоби вони розраховували площу в залежності від формули для кожного типу фігури. Створіть обʼєкт класу Трикутник та обʼєкт класу Коло. Виконайте операцію суми за допомогою оператора + між ними."
      ],
      "metadata": {
        "id": "SFcKnnv5Mo_z"
      }
    },
    {
      "cell_type": "code",
      "source": [
        "import math\n",
        "\n",
        "# Базовий клас Фігура\n",
        "class Figure:\n",
        "    def get_area(self):\n",
        "        return 0\n",
        "\n",
        "    # Метод для додавання площ фігур\n",
        "    def __add__(self, other):\n",
        "        return self.get_area() + other.get_area()\n",
        "\n",
        "# Дочірній клас Трикутник\n",
        "class Triangle(Figure):\n",
        "    def __init__(self, base, height):\n",
        "        self.base = base\n",
        "        self.height = height\n",
        "\n",
        "    def get_area(self):\n",
        "        return (self.base * self.height) / 2\n",
        "\n",
        "# Дочірній клас Коло\n",
        "class Circle(Figure):\n",
        "    def __init__(self, radius):\n",
        "        self.radius = radius\n",
        "\n",
        "    def get_area(self):\n",
        "        return math.pi * (self.radius ** 2)\n",
        "\n",
        "# Створюємо об'єкти\n",
        "triangle = Triangle(10, 5)\n",
        "circle = Circle(7)\n",
        "\n",
        "# Виконуємо операцію суми\n",
        "total_area = triangle + circle\n",
        "total_area"
      ],
      "metadata": {
        "id": "H3GVNr69Muf3",
        "colab": {
          "base_uri": "https://localhost:8080/"
        },
        "outputId": "57929a19-4e19-4037-e979-252be14174aa"
      },
      "execution_count": 5,
      "outputs": [
        {
          "output_type": "execute_result",
          "data": {
            "text/plain": [
              "178.93804002589985"
            ]
          },
          "metadata": {},
          "execution_count": 5
        }
      ]
    },
    {
      "cell_type": "markdown",
      "source": [
        "7. (3б). Продемонструйте різницю між isinstance та issubclass."
      ],
      "metadata": {
        "id": "HCvR206YMvLK"
      }
    },
    {
      "cell_type": "code",
      "source": [
        "class Animal:\n",
        "    pass\n",
        "\n",
        "class Dog(Animal):\n",
        "    pass\n",
        "\n",
        "class Cat(Animal):\n",
        "    pass\n",
        "\n",
        "# Створення екземплярів\n",
        "fido = Dog()\n",
        "whiskers = Cat()\n",
        "\n",
        "# Використання isinstance\n",
        "print(isinstance(fido, Dog))      # True, тому що fido є екземпляром Dog\n",
        "print(isinstance(fido, Animal))   # True, тому що Dog є підкласом Animal\n",
        "print(isinstance(fido, Cat))      # False, тому що fido не є екземпляром Cat\n",
        "\n",
        "# Використання issubclass\n",
        "print(issubclass(Dog, Animal))    # True, тому що Dog є підкласом Animal\n",
        "print(issubclass(Cat, Animal))    # True, тому що Cat є підкласом Animal\n",
        "print(issubclass(Dog, Cat))       # False, тому що Dog не є підкласом Cat"
      ],
      "metadata": {
        "id": "L_V1bBvDM0GN",
        "colab": {
          "base_uri": "https://localhost:8080/"
        },
        "outputId": "9aea4380-be2c-494a-941e-fa9d4edaf6e3"
      },
      "execution_count": 6,
      "outputs": [
        {
          "output_type": "stream",
          "name": "stdout",
          "text": [
            "True\n",
            "True\n",
            "False\n",
            "True\n",
            "True\n",
            "False\n"
          ]
        }
      ]
    },
    {
      "cell_type": "markdown",
      "source": [
        "8. (13б). Створіть клас BankAccount з приватними атрибутами balance та account_number. Реалізуйте методи поповнення та зняття коштів, забезпечивши належну інкапсуляцію. Підказка: використовуйте декоратори property та setter."
      ],
      "metadata": {
        "id": "jjsaBZ-iM0Qq"
      }
    },
    {
      "cell_type": "code",
      "source": [
        "class BankAccount:\n",
        "    def __init__(self, account_number, initial_balance=0):\n",
        "        self.__balance = initial_balance\n",
        "        self.__account_number = account_number\n",
        "\n",
        "    # Getter для балансу\n",
        "    @property\n",
        "    def balance(self):\n",
        "        return self.__balance\n",
        "\n",
        "    # Setter для балансу заборонено для забезпечення інкапсуляції\n",
        "    @balance.setter\n",
        "    def balance(self, value):\n",
        "        raise ValueError(\"Cannot directly set balance. Please use deposit or withdraw methods.\")\n",
        "\n",
        "    # Метод для поповнення коштів\n",
        "    def deposit(self, amount):\n",
        "        if amount > 0:\n",
        "            self.__balance += amount\n",
        "            print(f\"Deposited ${amount}. New balance is ${self.__balance}.\")\n",
        "        else:\n",
        "            print(\"Deposit amount must be positive.\")\n",
        "\n",
        "    # Метод для зняття коштів\n",
        "    def withdraw(self, amount):\n",
        "        if amount > self.__balance:\n",
        "            print(\"Insufficient funds.\")\n",
        "        elif amount <= 0:\n",
        "            print(\"Withdrawal amount must be positive.\")\n",
        "        else:\n",
        "            self.__balance -= amount\n",
        "            print(f\"Withdrew ${amount}. New balance is ${self.__balance}.\")\n",
        "\n",
        "account = BankAccount(\"123456789\", 1000)\n",
        "account.deposit(500)\n",
        "account.withdraw(200)\n",
        "\n",
        "# Спроба безпосередньо змінити баланс\n",
        "try:\n",
        "    account.balance = 3000\n",
        "except ValueError as e:\n",
        "    print(e)  # Виводить помилку, тому що пряме встановлення балансу не дозволено\n",
        "\n",
        "account.balance  # Отримання поточного балансу"
      ],
      "metadata": {
        "id": "xCvZ7lh8M7YA"
      },
      "execution_count": null,
      "outputs": []
    },
    {
      "cell_type": "markdown",
      "source": [
        "9. (11б). Створіть клас Library, який містить список об'єктів типу Book. Реалізуйте методи для додавання книги, видалення книги та відображення списку книг."
      ],
      "metadata": {
        "id": "tIzL2SJTM8ft"
      }
    },
    {
      "cell_type": "code",
      "source": [
        "class Book:\n",
        "    def __init__(self, title, author):\n",
        "        self.title = title\n",
        "        self.author = author\n",
        "\n",
        "    def __str__(self):\n",
        "        return f\"'{self.title}' by {self.author}\"\n",
        "\n",
        "class Library:\n",
        "    def __init__(self):\n",
        "        self.books = []\n",
        "\n",
        "    def add_book(self, book):\n",
        "        self.books.append(book)\n",
        "        print(f\"Book '{book.title}' added to the library.\")\n",
        "\n",
        "    def remove_book(self, title):\n",
        "        for book in self.books:\n",
        "            if book.title == title:\n",
        "                self.books.remove(book)\n",
        "                print(f\"Book '{title}' removed from the library.\")\n",
        "                return\n",
        "        print(f\"Book '{title}' not found in the library.\")\n",
        "\n",
        "    def display_books(self):\n",
        "        if self.books:\n",
        "            print(\"Library contains the following books:\")\n",
        "            for book in self.books:\n",
        "                print(book)\n",
        "        else:\n",
        "            print(\"The library is empty.\")\n",
        "\n",
        "# Демонстрація\n",
        "lib = Library()\n",
        "book1 = Book(\"The Great Gatsby\", \"F. Scott Fitzgerald\")\n",
        "book2 = Book(\"To Kill a Mockingbird\", \"Harper Lee\")\n",
        "lib.add_book(book1)\n",
        "lib.add_book(book2)\n",
        "lib.display_books()\n",
        "lib.remove_book(\"The Great Gatsby\")\n",
        "lib.display_books()\n"
      ],
      "metadata": {
        "id": "HWxfJKLtNAUZ",
        "colab": {
          "base_uri": "https://localhost:8080/"
        },
        "outputId": "3f039b46-b3bc-45ba-c6e6-cc9b6bfd2de5"
      },
      "execution_count": 7,
      "outputs": [
        {
          "output_type": "stream",
          "name": "stdout",
          "text": [
            "Book 'The Great Gatsby' added to the library.\n",
            "Book 'To Kill a Mockingbird' added to the library.\n",
            "Library contains the following books:\n",
            "'The Great Gatsby' by F. Scott Fitzgerald\n",
            "'To Kill a Mockingbird' by Harper Lee\n",
            "Book 'The Great Gatsby' removed from the library.\n",
            "Library contains the following books:\n",
            "'To Kill a Mockingbird' by Harper Lee\n"
          ]
        }
      ]
    },
    {
      "cell_type": "markdown",
      "source": [
        "10. (13б). Створіть клас Person з атрибутами name та age. Створіть ще один клас Employee з такими атрибутами, як department та salary. Створіть клас Manager, який успадковує обидва класи Person та Employee. Продемонструйте використання множинної спадковості, створивши обʼєкт класу Manager та отримавши mro для цього класу."
      ],
      "metadata": {
        "id": "lmV8pAwwNIqu"
      }
    },
    {
      "cell_type": "code",
      "source": [
        "class Person:\n",
        "    def __init__(self, name, age):\n",
        "        self.name = name\n",
        "        self.age = age\n",
        "\n",
        "class Employee:\n",
        "    def __init__(self, department, salary):\n",
        "        self.department = department\n",
        "        self.salary = salary\n",
        "\n",
        "class Manager(Person, Employee):\n",
        "    def __init__(self, name, age, department, salary):\n",
        "        Person.__init__(self, name, age)\n",
        "        Employee.__init__(self, department, salary)\n",
        "\n",
        "    def display_info(self):\n",
        "        print(f\"Name: {self.name}, Age: {self.age}, Department: {self.department}, Salary: {self.salary}\")\n",
        "\n",
        "manager = Manager(\"John Doe\", 40, \"IT\", 80000)\n",
        "manager.display_info()\n",
        "\n",
        "mro = Manager.mro()\n",
        "mro"
      ],
      "metadata": {
        "id": "R49grKlWNPeN",
        "colab": {
          "base_uri": "https://localhost:8080/"
        },
        "outputId": "96265d85-d89d-4d2e-bd2f-999a38d1842f"
      },
      "execution_count": 8,
      "outputs": [
        {
          "output_type": "stream",
          "name": "stdout",
          "text": [
            "Name: John Doe, Age: 40, Department: IT, Salary: 80000\n"
          ]
        },
        {
          "output_type": "execute_result",
          "data": {
            "text/plain": [
              "[__main__.Manager, __main__.Person, __main__.Employee, object]"
            ]
          },
          "metadata": {},
          "execution_count": 8
        }
      ]
    },
    {
      "cell_type": "markdown",
      "source": [
        "# II. Iterator"
      ],
      "metadata": {
        "id": "dIJyUiNBFG8G"
      }
    },
    {
      "cell_type": "markdown",
      "source": [
        "11. (4б). Визначте рядок(str) з 4ма різними за значенням символами. Створіть ітератор на основі цього рядка. Викличте 5 разів функцію next на ітераторі, 4ри перших з них огорніть у ф-цію print()."
      ],
      "metadata": {
        "id": "13vsm0NyKIzL"
      }
    },
    {
      "cell_type": "code",
      "source": [
        "s = \"abcd\"\n",
        "\n",
        "iterator = iter(s)\n",
        "\n",
        "print(next(iterator))\n",
        "print(next(iterator))\n",
        "print(next(iterator))\n",
        "print(next(iterator))\n",
        "\n",
        "try:\n",
        "    next(iterator)\n",
        "except StopIteration as e:\n",
        "    error_message = str(e)\n",
        "\n",
        "error_message"
      ],
      "metadata": {
        "id": "81ntabAkKuz-"
      },
      "execution_count": null,
      "outputs": []
    },
    {
      "cell_type": "markdown",
      "source": [
        "А що якщо викликати цю ж функцію на рядку?"
      ],
      "metadata": {
        "id": "aekWHGXOLRsO"
      }
    },
    {
      "cell_type": "code",
      "source": [
        "s = \"abcd\"\n",
        "\n",
        "try:\n",
        "    next(s)\n",
        "except TypeError as e:\n",
        "    error_message_direct = str(e)\n",
        "\n",
        "error_message_direct"
      ],
      "metadata": {
        "id": "mxATGsErLV1i"
      },
      "execution_count": null,
      "outputs": []
    },
    {
      "cell_type": "markdown",
      "source": [
        " 12. (5б). Опишіть своїми словами в одному реченні, як ви розумієте різницю між ітерабельними обʼєктами та ітераторами (можна на прикладі)."
      ],
      "metadata": {
        "id": "XwtMEopwJ4pH"
      }
    },
    {
      "cell_type": "markdown",
      "source": [
        "Ітерабельні об'єкти — це контейнери, які можуть повертати один елемент за раз, як наприклад рядок або список, а ітератори — це спеціальні об'єкти, які ведуть рахунок ітерацій і дозволяють нам пройтися по цим елементам, використовуючи функцію next()."
      ],
      "metadata": {
        "id": "-sHrODc3KFn8"
      }
    },
    {
      "cell_type": "markdown",
      "source": [
        "13. (11б). Створіть клас, що має визначений Iterator Protocol та при кожному виклику next повертає літери англійської абетки, поки вони не вичерпаються."
      ],
      "metadata": {
        "id": "E9qJWmNbK8Gl"
      }
    },
    {
      "cell_type": "code",
      "source": [
        "class AlphabetIterator:\n",
        "    def __init__(self):\n",
        "        self.letters = 'ABCDEFGHIJKLMNOPQRSTUVWXYZ'\n",
        "        self.index = 0  # Вказівник на поточну літеру\n",
        "\n",
        "    def __iter__(self):\n",
        "        return self\n",
        "\n",
        "    def __next__(self):\n",
        "        # Повернути наступну літеру абетки\n",
        "        if self.index < len(self.letters):\n",
        "            letter = self.letters[self.index]\n",
        "            self.index += 1\n",
        "            return letter\n",
        "        else:\n",
        "            raise StopIteration\n",
        "\n",
        "# Створюємо і використовуємо ітератор AlphabetIterator\n",
        "alphabet_iterator = AlphabetIterator()\n",
        "alphabet_letters = []\n",
        "\n",
        "try:\n",
        "    while True:\n",
        "        alphabet_letters.append(next(alphabet_iterator))\n",
        "except StopIteration:\n",
        "    pass\n",
        "\n",
        "alphabet_letters"
      ],
      "metadata": {
        "id": "cqx-g_RsLo6I",
        "colab": {
          "base_uri": "https://localhost:8080/"
        },
        "outputId": "744ff85a-f934-4153-d5c9-c2230acaf502"
      },
      "execution_count": 9,
      "outputs": [
        {
          "output_type": "execute_result",
          "data": {
            "text/plain": [
              "['A',\n",
              " 'B',\n",
              " 'C',\n",
              " 'D',\n",
              " 'E',\n",
              " 'F',\n",
              " 'G',\n",
              " 'H',\n",
              " 'I',\n",
              " 'J',\n",
              " 'K',\n",
              " 'L',\n",
              " 'M',\n",
              " 'N',\n",
              " 'O',\n",
              " 'P',\n",
              " 'Q',\n",
              " 'R',\n",
              " 'S',\n",
              " 'T',\n",
              " 'U',\n",
              " 'V',\n",
              " 'W',\n",
              " 'X',\n",
              " 'Y',\n",
              " 'Z']"
            ]
          },
          "metadata": {},
          "execution_count": 9
        }
      ]
    },
    {
      "cell_type": "markdown",
      "source": [
        "# Вітаю! Ви велика(ий) молодець, що впоралась(вся). Похваліть себе та побалуйте чимось приємним. Я Вами пишаюся."
      ],
      "metadata": {
        "id": "Z3E3S_s1Fv7-"
      }
    }
  ]
}